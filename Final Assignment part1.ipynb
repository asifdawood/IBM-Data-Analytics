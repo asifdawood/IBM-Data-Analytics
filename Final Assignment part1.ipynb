{
 "cells": [
  {
   "cell_type": "markdown",
   "metadata": {},
   "source": [
    "<p style=\"text-align:center\">\n",
    "    <a href=\"https://skills.network/?utm_medium=Exinfluencer&utm_source=Exinfluencer&utm_content=000026UJ&utm_term=10006555&utm_id=NA-SkillsNetwork-Channel-SkillsNetworkCoursesIBMDeveloperSkillsNetworkPY0220ENSkillsNetwork900-2022-01-01\" target=\"_blank\">\n",
    "    <img src=\"https://cf-courses-data.s3.us.cloud-object-storage.appdomain.cloud/assets/logos/SN_web_lightmode.png\" width=\"200\" alt=\"Skills Network Logo\">\n",
    "    </a>\n",
    "</p>\n"
   ]
  },
  {
   "cell_type": "markdown",
   "metadata": {},
   "source": [
    "<h1>Extracting and Visualizing Stock Data</h1>\n",
    "<h2>Description</h2>\n"
   ]
  },
  {
   "cell_type": "markdown",
   "metadata": {},
   "source": [
    "Extracting essential data from a dataset and displaying it is a necessary part of data science; therefore individuals can make correct decisions based on the data. In this assignment, you will extract some stock data, you will then display this data in a graph.\n"
   ]
  },
  {
   "cell_type": "markdown",
   "metadata": {},
   "source": [
    "<h2>Table of Contents</h2>\n",
    "<div class=\"alert alert-block alert-info\" style=\"margin-top: 20px\">\n",
    "    <ul>\n",
    "        <li>Define a Function that Makes a Graph</li>\n",
    "        <li>Question 1: Use yfinance to Extract Stock Data</li>\n",
    "        <li>Question 2: Use Webscraping to Extract Tesla Revenue Data</li>\n",
    "        <li>Question 3: Use yfinance to Extract Stock Data</li>\n",
    "        <li>Question 4: Use Webscraping to Extract GME Revenue Data</li>\n",
    "        <li>Question 5: Plot Tesla Stock Graph</li>\n",
    "        <li>Question 6: Plot GameStop Stock Graph</li>\n",
    "    </ul>\n",
    "<p>\n",
    "    Estimated Time Needed: <strong>30 min</strong></p>\n",
    "</div>\n",
    "\n",
    "<hr>\n"
   ]
  },
  {
   "cell_type": "markdown",
   "metadata": {},
   "source": [
    "***Note***:- If you are working Locally using anaconda, please uncomment the following code and execute it.\n"
   ]
  },
  {
   "cell_type": "code",
   "execution_count": 2,
   "metadata": {},
   "outputs": [
    {
     "name": "stdout",
     "output_type": "stream",
     "text": [
      "Collecting yfinance==0.2.38\n",
      "  Downloading yfinance-0.2.38-py2.py3-none-any.whl.metadata (11 kB)\n",
      "Requirement already satisfied: pandas>=1.3.0 in c:\\users\\asifd\\appdata\\local\\programs\\python\\python311\\lib\\site-packages (from yfinance==0.2.38) (2.1.4)\n",
      "Requirement already satisfied: numpy>=1.16.5 in c:\\users\\asifd\\appdata\\local\\programs\\python\\python311\\lib\\site-packages (from yfinance==0.2.38) (1.26.3)\n",
      "Requirement already satisfied: requests>=2.31 in c:\\users\\asifd\\appdata\\local\\programs\\python\\python311\\lib\\site-packages (from yfinance==0.2.38) (2.32.3)\n",
      "Collecting multitasking>=0.0.7 (from yfinance==0.2.38)\n",
      "  Downloading multitasking-0.0.11-py3-none-any.whl.metadata (5.5 kB)\n",
      "Requirement already satisfied: lxml>=4.9.1 in c:\\users\\asifd\\appdata\\local\\programs\\python\\python311\\lib\\site-packages (from yfinance==0.2.38) (4.9.2)\n",
      "Collecting appdirs>=1.4.4 (from yfinance==0.2.38)\n",
      "  Downloading appdirs-1.4.4-py2.py3-none-any.whl.metadata (9.0 kB)\n",
      "Requirement already satisfied: pytz>=2022.5 in c:\\users\\asifd\\appdata\\local\\programs\\python\\python311\\lib\\site-packages (from yfinance==0.2.38) (2023.3.post1)\n",
      "Collecting frozendict>=2.3.4 (from yfinance==0.2.38)\n",
      "  Downloading frozendict-2.4.4-py311-none-any.whl.metadata (23 kB)\n",
      "Collecting peewee>=3.16.2 (from yfinance==0.2.38)\n",
      "  Downloading peewee-3.17.5.tar.gz (3.0 MB)\n",
      "     ---------------------------------------- 0.0/3.0 MB ? eta -:--:--\n",
      "     -- ------------------------------------- 0.2/3.0 MB 5.8 MB/s eta 0:00:01\n",
      "     ----- ---------------------------------- 0.4/3.0 MB 5.0 MB/s eta 0:00:01\n",
      "     -------- ------------------------------- 0.6/3.0 MB 4.7 MB/s eta 0:00:01\n",
      "     ---------- ----------------------------- 0.8/3.0 MB 4.5 MB/s eta 0:00:01\n",
      "     ------------- -------------------------- 1.0/3.0 MB 4.5 MB/s eta 0:00:01\n",
      "     ---------------- ----------------------- 1.2/3.0 MB 4.5 MB/s eta 0:00:01\n",
      "     ------------------ --------------------- 1.3/3.0 MB 4.3 MB/s eta 0:00:01\n",
      "     -------------------- ------------------- 1.5/3.0 MB 4.2 MB/s eta 0:00:01\n",
      "     ----------------------- ---------------- 1.7/3.0 MB 4.2 MB/s eta 0:00:01\n",
      "     ------------------------- -------------- 1.9/3.0 MB 4.2 MB/s eta 0:00:01\n",
      "     ---------------------------- ----------- 2.1/3.0 MB 4.2 MB/s eta 0:00:01\n",
      "     ------------------------------- -------- 2.3/3.0 MB 4.2 MB/s eta 0:00:01\n",
      "     --------------------------------- ------ 2.5/3.0 MB 4.2 MB/s eta 0:00:01\n",
      "     ------------------------------------ --- 2.7/3.0 MB 4.2 MB/s eta 0:00:01\n",
      "     ---------------------------------------  2.9/3.0 MB 4.2 MB/s eta 0:00:01\n",
      "     ---------------------------------------- 3.0/3.0 MB 4.1 MB/s eta 0:00:00\n",
      "  Installing build dependencies: started\n",
      "  Installing build dependencies: finished with status 'done'\n",
      "  Getting requirements to build wheel: started\n",
      "  Getting requirements to build wheel: finished with status 'done'\n",
      "  Preparing metadata (pyproject.toml): started\n",
      "  Preparing metadata (pyproject.toml): finished with status 'done'\n",
      "Requirement already satisfied: beautifulsoup4>=4.11.1 in c:\\users\\asifd\\appdata\\local\\programs\\python\\python311\\lib\\site-packages (from yfinance==0.2.38) (4.12.3)\n",
      "Requirement already satisfied: html5lib>=1.1 in c:\\users\\asifd\\appdata\\local\\programs\\python\\python311\\lib\\site-packages (from yfinance==0.2.38) (1.1)\n",
      "Requirement already satisfied: soupsieve>1.2 in c:\\users\\asifd\\appdata\\local\\programs\\python\\python311\\lib\\site-packages (from beautifulsoup4>=4.11.1->yfinance==0.2.38) (2.5)\n",
      "Requirement already satisfied: six>=1.9 in c:\\users\\asifd\\appdata\\local\\programs\\python\\python311\\lib\\site-packages (from html5lib>=1.1->yfinance==0.2.38) (1.15.0)\n",
      "Requirement already satisfied: webencodings in c:\\users\\asifd\\appdata\\local\\programs\\python\\python311\\lib\\site-packages (from html5lib>=1.1->yfinance==0.2.38) (0.5.1)\n",
      "Requirement already satisfied: python-dateutil>=2.8.2 in c:\\users\\asifd\\appdata\\roaming\\python\\python311\\site-packages (from pandas>=1.3.0->yfinance==0.2.38) (2.8.2)\n",
      "Requirement already satisfied: tzdata>=2022.1 in c:\\users\\asifd\\appdata\\local\\programs\\python\\python311\\lib\\site-packages (from pandas>=1.3.0->yfinance==0.2.38) (2023.4)\n",
      "Requirement already satisfied: charset-normalizer<4,>=2 in c:\\users\\asifd\\appdata\\local\\programs\\python\\python311\\lib\\site-packages (from requests>=2.31->yfinance==0.2.38) (3.3.2)\n",
      "Requirement already satisfied: idna<4,>=2.5 in c:\\users\\asifd\\appdata\\local\\programs\\python\\python311\\lib\\site-packages (from requests>=2.31->yfinance==0.2.38) (2.10)\n",
      "Requirement already satisfied: urllib3<3,>=1.21.1 in c:\\users\\asifd\\appdata\\local\\programs\\python\\python311\\lib\\site-packages (from requests>=2.31->yfinance==0.2.38) (1.25.10)\n",
      "Requirement already satisfied: certifi>=2017.4.17 in c:\\users\\asifd\\appdata\\local\\programs\\python\\python311\\lib\\site-packages (from requests>=2.31->yfinance==0.2.38) (2023.11.17)\n",
      "Downloading yfinance-0.2.38-py2.py3-none-any.whl (72 kB)\n",
      "   ---------------------------------------- 0.0/73.0 kB ? eta -:--:--\n",
      "   ---------------------------------------- 73.0/73.0 kB 3.9 MB/s eta 0:00:00\n",
      "Downloading appdirs-1.4.4-py2.py3-none-any.whl (9.6 kB)\n",
      "Downloading frozendict-2.4.4-py311-none-any.whl (16 kB)\n",
      "Downloading multitasking-0.0.11-py3-none-any.whl (8.5 kB)\n",
      "Building wheels for collected packages: peewee\n",
      "  Building wheel for peewee (pyproject.toml): started\n",
      "  Building wheel for peewee (pyproject.toml): finished with status 'done'\n",
      "  Created wheel for peewee: filename=peewee-3.17.5-py3-none-any.whl size=138680 sha256=9ae3c36bf809421a05006c625d587c88acc749febee7909987ac1c2e70f99731\n",
      "  Stored in directory: c:\\users\\asifd\\appdata\\local\\pip\\cache\\wheels\\d2\\cb\\9c\\c300d7bf782e07f1658c306743d5e30af7e4834001e4064a96\n",
      "Successfully built peewee\n",
      "Installing collected packages: peewee, multitasking, appdirs, frozendict, yfinance\n",
      "Successfully installed appdirs-1.4.4 frozendict-2.4.4 multitasking-0.0.11 peewee-3.17.5 yfinance-0.2.38\n",
      "Collecting pandas==2.2.2\n",
      "  Downloading pandas-2.2.2-cp311-cp311-win_amd64.whl.metadata (19 kB)\n",
      "Requirement already satisfied: numpy>=1.23.2 in c:\\users\\asifd\\appdata\\local\\programs\\python\\python311\\lib\\site-packages (from pandas==2.2.2) (1.26.3)\n",
      "Requirement already satisfied: python-dateutil>=2.8.2 in c:\\users\\asifd\\appdata\\roaming\\python\\python311\\site-packages (from pandas==2.2.2) (2.8.2)\n",
      "Requirement already satisfied: pytz>=2020.1 in c:\\users\\asifd\\appdata\\local\\programs\\python\\python311\\lib\\site-packages (from pandas==2.2.2) (2023.3.post1)\n",
      "Requirement already satisfied: tzdata>=2022.7 in c:\\users\\asifd\\appdata\\local\\programs\\python\\python311\\lib\\site-packages (from pandas==2.2.2) (2023.4)\n",
      "Requirement already satisfied: six>=1.5 in c:\\users\\asifd\\appdata\\local\\programs\\python\\python311\\lib\\site-packages (from python-dateutil>=2.8.2->pandas==2.2.2) (1.15.0)\n",
      "Downloading pandas-2.2.2-cp311-cp311-win_amd64.whl (11.6 MB)\n",
      "   ---------------------------------------- 0.0/11.6 MB ? eta -:--:--\n",
      "    --------------------------------------- 0.2/11.6 MB 4.7 MB/s eta 0:00:03\n",
      "   - -------------------------------------- 0.4/11.6 MB 4.4 MB/s eta 0:00:03\n",
      "   -- ------------------------------------- 0.6/11.6 MB 4.4 MB/s eta 0:00:03\n",
      "   -- ------------------------------------- 0.8/11.6 MB 4.4 MB/s eta 0:00:03\n",
      "   -- ------------------------------------- 0.8/11.6 MB 4.4 MB/s eta 0:00:03\n",
      "   -- ------------------------------------- 0.8/11.6 MB 4.4 MB/s eta 0:00:03\n",
      "   -- ------------------------------------- 0.8/11.6 MB 4.4 MB/s eta 0:00:03\n",
      "   -- ------------------------------------- 0.8/11.6 MB 4.4 MB/s eta 0:00:03\n",
      "   -- ------------------------------------- 0.8/11.6 MB 4.4 MB/s eta 0:00:03\n",
      "   -- ------------------------------------- 0.8/11.6 MB 4.4 MB/s eta 0:00:03\n",
      "   -- ------------------------------------- 0.8/11.6 MB 4.4 MB/s eta 0:00:03\n",
      "   -- ------------------------------------- 0.8/11.6 MB 4.4 MB/s eta 0:00:03\n",
      "   -- ------------------------------------- 0.8/11.6 MB 4.4 MB/s eta 0:00:03\n",
      "   -- ------------------------------------- 0.8/11.6 MB 4.4 MB/s eta 0:00:03\n",
      "   -- ------------------------------------- 0.8/11.6 MB 4.4 MB/s eta 0:00:03\n",
      "   -- ------------------------------------- 0.8/11.6 MB 4.4 MB/s eta 0:00:03\n",
      "   -- ------------------------------------- 0.8/11.6 MB 4.4 MB/s eta 0:00:03\n",
      "   -- ------------------------------------- 0.8/11.6 MB 4.4 MB/s eta 0:00:03\n",
      "   -- ------------------------------------- 0.8/11.6 MB 4.4 MB/s eta 0:00:03\n",
      "   -- ------------------------------------- 0.8/11.6 MB 845.0 kB/s eta 0:00:13\n",
      "   -- ------------------------------------- 0.8/11.6 MB 832.5 kB/s eta 0:00:13\n",
      "   --- ------------------------------------ 0.9/11.6 MB 867.6 kB/s eta 0:00:13\n",
      "   --- ------------------------------------ 0.9/11.6 MB 848.5 kB/s eta 0:00:13\n",
      "   --- ------------------------------------ 1.0/11.6 MB 901.1 kB/s eta 0:00:12\n",
      "   ---- ----------------------------------- 1.2/11.6 MB 1.0 MB/s eta 0:00:10\n",
      "   ---- ----------------------------------- 1.4/11.6 MB 1.1 MB/s eta 0:00:09\n",
      "   ----- ---------------------------------- 1.6/11.6 MB 1.3 MB/s eta 0:00:08\n",
      "   ------ --------------------------------- 1.8/11.6 MB 1.4 MB/s eta 0:00:08\n",
      "   ------- -------------------------------- 2.1/11.6 MB 1.5 MB/s eta 0:00:07\n",
      "   ------- -------------------------------- 2.3/11.6 MB 1.6 MB/s eta 0:00:06\n",
      "   -------- ------------------------------- 2.5/11.6 MB 1.7 MB/s eta 0:00:06\n",
      "   --------- ------------------------------ 2.7/11.6 MB 1.8 MB/s eta 0:00:06\n",
      "   --------- ------------------------------ 2.9/11.6 MB 1.9 MB/s eta 0:00:05\n",
      "   ---------- ----------------------------- 3.1/11.6 MB 1.9 MB/s eta 0:00:05\n",
      "   ----------- ---------------------------- 3.3/11.6 MB 2.0 MB/s eta 0:00:05\n",
      "   ------------ --------------------------- 3.5/11.6 MB 2.1 MB/s eta 0:00:04\n",
      "   ------------ --------------------------- 3.7/11.6 MB 2.1 MB/s eta 0:00:04\n",
      "   ------------- -------------------------- 3.9/11.6 MB 2.2 MB/s eta 0:00:04\n",
      "   -------------- ------------------------- 4.1/11.6 MB 2.3 MB/s eta 0:00:04\n",
      "   -------------- ------------------------- 4.3/11.6 MB 2.3 MB/s eta 0:00:04\n",
      "   --------------- ------------------------ 4.5/11.6 MB 2.3 MB/s eta 0:00:04\n",
      "   ---------------- ----------------------- 4.7/11.6 MB 2.4 MB/s eta 0:00:03\n",
      "   ----------------- ---------------------- 4.9/11.6 MB 2.4 MB/s eta 0:00:03\n",
      "   ----------------- ---------------------- 5.1/11.6 MB 2.5 MB/s eta 0:00:03\n",
      "   ------------------ --------------------- 5.3/11.6 MB 2.5 MB/s eta 0:00:03\n",
      "   ------------------- -------------------- 5.6/11.6 MB 2.6 MB/s eta 0:00:03\n",
      "   ------------------- -------------------- 5.7/11.6 MB 2.6 MB/s eta 0:00:03\n",
      "   -------------------- ------------------- 5.9/11.6 MB 2.6 MB/s eta 0:00:03\n",
      "   --------------------- ------------------ 6.2/11.6 MB 2.7 MB/s eta 0:00:03\n",
      "   --------------------- ------------------ 6.3/11.6 MB 2.7 MB/s eta 0:00:02\n",
      "   ---------------------- ----------------- 6.6/11.6 MB 2.7 MB/s eta 0:00:02\n",
      "   ----------------------- ---------------- 6.8/11.6 MB 2.8 MB/s eta 0:00:02\n",
      "   ----------------------- ---------------- 7.0/11.6 MB 2.8 MB/s eta 0:00:02\n",
      "   ------------------------ --------------- 7.2/11.6 MB 2.8 MB/s eta 0:00:02\n",
      "   ------------------------- -------------- 7.4/11.6 MB 2.9 MB/s eta 0:00:02\n",
      "   ------------------------- -------------- 7.5/11.6 MB 2.9 MB/s eta 0:00:02\n",
      "   -------------------------- ------------- 7.8/11.6 MB 2.9 MB/s eta 0:00:02\n",
      "   --------------------------- ------------ 8.0/11.6 MB 2.9 MB/s eta 0:00:02\n",
      "   ---------------------------- ----------- 8.2/11.6 MB 3.0 MB/s eta 0:00:02\n",
      "   ---------------------------- ----------- 8.4/11.6 MB 3.0 MB/s eta 0:00:02\n",
      "   ----------------------------- ---------- 8.6/11.6 MB 3.0 MB/s eta 0:00:02\n",
      "   ------------------------------ --------- 8.8/11.6 MB 3.0 MB/s eta 0:00:01\n",
      "   ------------------------------ --------- 9.0/11.6 MB 3.0 MB/s eta 0:00:01\n",
      "   ------------------------------- -------- 9.2/11.6 MB 3.1 MB/s eta 0:00:01\n",
      "   -------------------------------- ------- 9.4/11.6 MB 3.1 MB/s eta 0:00:01\n",
      "   -------------------------------- ------- 9.6/11.6 MB 3.1 MB/s eta 0:00:01\n",
      "   --------------------------------- ------ 9.8/11.6 MB 3.1 MB/s eta 0:00:01\n",
      "   ---------------------------------- ----- 10.0/11.6 MB 3.1 MB/s eta 0:00:01\n",
      "   ----------------------------------- ---- 10.2/11.6 MB 3.2 MB/s eta 0:00:01\n",
      "   ----------------------------------- ---- 10.4/11.6 MB 3.1 MB/s eta 0:00:01\n",
      "   ------------------------------------ --- 10.6/11.6 MB 3.2 MB/s eta 0:00:01\n",
      "   ------------------------------------- -- 10.8/11.6 MB 3.2 MB/s eta 0:00:01\n",
      "   ------------------------------------- -- 11.0/11.6 MB 4.2 MB/s eta 0:00:01\n",
      "   -------------------------------------- - 11.2/11.6 MB 4.4 MB/s eta 0:00:01\n",
      "   ---------------------------------------  11.4/11.6 MB 4.4 MB/s eta 0:00:01\n",
      "   ---------------------------------------  11.6/11.6 MB 4.4 MB/s eta 0:00:01\n",
      "   ---------------------------------------- 11.6/11.6 MB 4.3 MB/s eta 0:00:00\n",
      "Installing collected packages: pandas\n",
      "  Attempting uninstall: pandas\n",
      "    Found existing installation: pandas 2.1.4\n",
      "    Uninstalling pandas-2.1.4:\n",
      "      Successfully uninstalled pandas-2.1.4\n",
      "Successfully installed pandas-2.2.2\n",
      "Collecting nbformat\n",
      "  Downloading nbformat-5.10.4-py3-none-any.whl.metadata (3.6 kB)\n",
      "Collecting fastjsonschema>=2.15 (from nbformat)\n",
      "  Downloading fastjsonschema-2.20.0-py3-none-any.whl.metadata (2.1 kB)\n",
      "Requirement already satisfied: jsonschema>=2.6 in c:\\users\\asifd\\appdata\\local\\programs\\python\\python311\\lib\\site-packages (from nbformat) (4.17.3)\n",
      "Requirement already satisfied: jupyter-core!=5.0.*,>=4.12 in c:\\users\\asifd\\appdata\\roaming\\python\\python311\\site-packages (from nbformat) (5.3.0)\n",
      "Requirement already satisfied: traitlets>=5.1 in c:\\users\\asifd\\appdata\\roaming\\python\\python311\\site-packages (from nbformat) (5.9.0)\n",
      "Requirement already satisfied: attrs>=17.4.0 in c:\\users\\asifd\\appdata\\local\\programs\\python\\python311\\lib\\site-packages (from jsonschema>=2.6->nbformat) (23.1.0)\n",
      "Requirement already satisfied: pyrsistent!=0.17.0,!=0.17.1,!=0.17.2,>=0.14.0 in c:\\users\\asifd\\appdata\\local\\programs\\python\\python311\\lib\\site-packages (from jsonschema>=2.6->nbformat) (0.19.3)\n",
      "Requirement already satisfied: platformdirs>=2.5 in c:\\users\\asifd\\appdata\\local\\programs\\python\\python311\\lib\\site-packages (from jupyter-core!=5.0.*,>=4.12->nbformat) (3.5.0)\n",
      "Requirement already satisfied: pywin32>=300 in c:\\users\\asifd\\appdata\\local\\programs\\python\\python311\\lib\\site-packages (from jupyter-core!=5.0.*,>=4.12->nbformat) (306)\n",
      "Downloading nbformat-5.10.4-py3-none-any.whl (78 kB)\n",
      "   ---------------------------------------- 0.0/78.5 kB ? eta -:--:--\n",
      "   ---------------------------------------- 78.5/78.5 kB 2.2 MB/s eta 0:00:00\n",
      "Downloading fastjsonschema-2.20.0-py3-none-any.whl (23 kB)\n",
      "Installing collected packages: fastjsonschema, nbformat\n",
      "Successfully installed fastjsonschema-2.20.0 nbformat-5.10.4\n"
     ]
    }
   ],
   "source": [
    "!pip install yfinance==0.2.38\n",
    "!pip install pandas==2.2.2\n",
    "!pip install nbformat"
   ]
  },
  {
   "cell_type": "code",
   "execution_count": 5,
   "metadata": {},
   "outputs": [
    {
     "name": "stdout",
     "output_type": "stream",
     "text": [
      "Collecting yfinance==0.1.67\n",
      "  Downloading yfinance-0.1.67-py2.py3-none-any.whl.metadata (10 kB)\n",
      "Requirement already satisfied: pandas>=0.24 in c:\\users\\asifd\\appdata\\local\\programs\\python\\python311\\lib\\site-packages (from yfinance==0.1.67) (2.2.2)\n",
      "Requirement already satisfied: numpy>=1.15 in c:\\users\\asifd\\appdata\\local\\programs\\python\\python311\\lib\\site-packages (from yfinance==0.1.67) (1.26.3)\n",
      "Requirement already satisfied: requests>=2.20 in c:\\users\\asifd\\appdata\\local\\programs\\python\\python311\\lib\\site-packages (from yfinance==0.1.67) (2.32.3)\n",
      "Requirement already satisfied: multitasking>=0.0.7 in c:\\users\\asifd\\appdata\\local\\programs\\python\\python311\\lib\\site-packages (from yfinance==0.1.67) (0.0.11)\n",
      "Requirement already satisfied: lxml>=4.5.1 in c:\\users\\asifd\\appdata\\local\\programs\\python\\python311\\lib\\site-packages (from yfinance==0.1.67) (4.9.2)\n",
      "Requirement already satisfied: python-dateutil>=2.8.2 in c:\\users\\asifd\\appdata\\roaming\\python\\python311\\site-packages (from pandas>=0.24->yfinance==0.1.67) (2.8.2)\n",
      "Requirement already satisfied: pytz>=2020.1 in c:\\users\\asifd\\appdata\\local\\programs\\python\\python311\\lib\\site-packages (from pandas>=0.24->yfinance==0.1.67) (2023.3.post1)\n",
      "Requirement already satisfied: tzdata>=2022.7 in c:\\users\\asifd\\appdata\\local\\programs\\python\\python311\\lib\\site-packages (from pandas>=0.24->yfinance==0.1.67) (2023.4)\n",
      "Requirement already satisfied: charset-normalizer<4,>=2 in c:\\users\\asifd\\appdata\\local\\programs\\python\\python311\\lib\\site-packages (from requests>=2.20->yfinance==0.1.67) (3.3.2)\n",
      "Requirement already satisfied: idna<4,>=2.5 in c:\\users\\asifd\\appdata\\local\\programs\\python\\python311\\lib\\site-packages (from requests>=2.20->yfinance==0.1.67) (2.10)\n",
      "Requirement already satisfied: urllib3<3,>=1.21.1 in c:\\users\\asifd\\appdata\\local\\programs\\python\\python311\\lib\\site-packages (from requests>=2.20->yfinance==0.1.67) (1.25.10)\n",
      "Requirement already satisfied: certifi>=2017.4.17 in c:\\users\\asifd\\appdata\\local\\programs\\python\\python311\\lib\\site-packages (from requests>=2.20->yfinance==0.1.67) (2023.11.17)\n",
      "Requirement already satisfied: six>=1.5 in c:\\users\\asifd\\appdata\\local\\programs\\python\\python311\\lib\\site-packages (from python-dateutil>=2.8.2->pandas>=0.24->yfinance==0.1.67) (1.15.0)\n",
      "Downloading yfinance-0.1.67-py2.py3-none-any.whl (25 kB)\n",
      "Installing collected packages: yfinance\n",
      "  Attempting uninstall: yfinance\n",
      "    Found existing installation: yfinance 0.2.38\n",
      "    Uninstalling yfinance-0.2.38:\n",
      "      Successfully uninstalled yfinance-0.2.38\n",
      "Successfully installed yfinance-0.1.67\n"
     ]
    },
    {
     "name": "stderr",
     "output_type": "stream",
     "text": [
      "'mamba' is not recognized as an internal or external command,\n",
      "operable program or batch file.\n"
     ]
    },
    {
     "name": "stdout",
     "output_type": "stream",
     "text": [
      "Collecting nbformat==4.2.0\n",
      "  Downloading nbformat-4.2.0-py2.py3-none-any.whl.metadata (1.1 kB)\n",
      "Collecting ipython-genutils (from nbformat==4.2.0)\n",
      "  Downloading ipython_genutils-0.2.0-py2.py3-none-any.whl.metadata (755 bytes)\n",
      "Requirement already satisfied: jsonschema!=2.5.0,>=2.4 in c:\\users\\asifd\\appdata\\local\\programs\\python\\python311\\lib\\site-packages (from nbformat==4.2.0) (4.17.3)\n",
      "Requirement already satisfied: jupyter-core in c:\\users\\asifd\\appdata\\roaming\\python\\python311\\site-packages (from nbformat==4.2.0) (5.3.0)\n",
      "Requirement already satisfied: traitlets>=4.1 in c:\\users\\asifd\\appdata\\roaming\\python\\python311\\site-packages (from nbformat==4.2.0) (5.9.0)\n",
      "Requirement already satisfied: attrs>=17.4.0 in c:\\users\\asifd\\appdata\\local\\programs\\python\\python311\\lib\\site-packages (from jsonschema!=2.5.0,>=2.4->nbformat==4.2.0) (23.1.0)\n",
      "Requirement already satisfied: pyrsistent!=0.17.0,!=0.17.1,!=0.17.2,>=0.14.0 in c:\\users\\asifd\\appdata\\local\\programs\\python\\python311\\lib\\site-packages (from jsonschema!=2.5.0,>=2.4->nbformat==4.2.0) (0.19.3)\n",
      "Requirement already satisfied: platformdirs>=2.5 in c:\\users\\asifd\\appdata\\local\\programs\\python\\python311\\lib\\site-packages (from jupyter-core->nbformat==4.2.0) (3.5.0)\n",
      "Requirement already satisfied: pywin32>=300 in c:\\users\\asifd\\appdata\\local\\programs\\python\\python311\\lib\\site-packages (from jupyter-core->nbformat==4.2.0) (306)\n",
      "Downloading nbformat-4.2.0-py2.py3-none-any.whl (153 kB)\n",
      "   ---------------------------------------- 0.0/153.3 kB ? eta -:--:--\n",
      "   ------------------------------------- -- 143.4/153.3 kB 2.8 MB/s eta 0:00:01\n",
      "   ---------------------------------------- 153.3/153.3 kB 2.3 MB/s eta 0:00:00\n",
      "Downloading ipython_genutils-0.2.0-py2.py3-none-any.whl (26 kB)\n",
      "Installing collected packages: ipython-genutils, nbformat\n",
      "  Attempting uninstall: nbformat\n",
      "    Found existing installation: nbformat 5.10.4\n",
      "    Uninstalling nbformat-5.10.4:\n",
      "      Successfully uninstalled nbformat-5.10.4\n",
      "Successfully installed ipython-genutils-0.2.0 nbformat-4.2.0\n"
     ]
    }
   ],
   "source": [
    "!pip install yfinance==0.1.67\n",
    "!mamba install bs4==4.10.0 -y\n",
    "!pip install nbformat==4.2.0"
   ]
  },
  {
   "cell_type": "code",
   "execution_count": 9,
   "metadata": {},
   "outputs": [
    {
     "ename": "ModuleNotFoundError",
     "evalue": "No module named 'yfinance'",
     "output_type": "error",
     "traceback": [
      "\u001b[1;31m---------------------------------------------------------------------------\u001b[0m",
      "\u001b[1;31mModuleNotFoundError\u001b[0m                       Traceback (most recent call last)",
      "Cell \u001b[1;32mIn[9], line 1\u001b[0m\n\u001b[1;32m----> 1\u001b[0m \u001b[38;5;28;01mimport\u001b[39;00m \u001b[38;5;21;01myfinance\u001b[39;00m \u001b[38;5;28;01mas\u001b[39;00m \u001b[38;5;21;01myf\u001b[39;00m\n\u001b[0;32m      2\u001b[0m \u001b[38;5;28;01mimport\u001b[39;00m \u001b[38;5;21;01mpandas\u001b[39;00m \u001b[38;5;28;01mas\u001b[39;00m \u001b[38;5;21;01mpd\u001b[39;00m\n\u001b[0;32m      3\u001b[0m \u001b[38;5;28;01mimport\u001b[39;00m \u001b[38;5;21;01mrequests\u001b[39;00m\n",
      "\u001b[1;31mModuleNotFoundError\u001b[0m: No module named 'yfinance'"
     ]
    }
   ],
   "source": [
    "import yfinance as yf\n",
    "import pandas as pd\n",
    "import requests\n",
    "from bs4 import BeautifulSoup\n",
    "import plotly.graph_objects as go\n",
    "from plotly.subplots import make_subplots"
   ]
  },
  {
   "cell_type": "markdown",
   "metadata": {},
   "source": [
    "In Python, you can ignore warnings using the warnings module. You can use the filterwarnings function to filter or ignore specific warning messages or categories.\n"
   ]
  },
  {
   "cell_type": "code",
   "execution_count": null,
   "metadata": {},
   "outputs": [],
   "source": [
    "import warnings\n",
    "# Ignore all warnings\n",
    "warnings.filterwarnings(\"ignore\", category=FutureWarning)"
   ]
  },
  {
   "cell_type": "markdown",
   "metadata": {},
   "source": [
    "## Define Graphing Function\n"
   ]
  },
  {
   "cell_type": "markdown",
   "metadata": {},
   "source": [
    "In this section, we define the function `make_graph`. You don't have to know how the function works, you should only care about the inputs. It takes a dataframe with stock data (dataframe must contain Date and Close columns), a dataframe with revenue data (dataframe must contain Date and Revenue columns), and the name of the stock.\n"
   ]
  },
  {
   "cell_type": "code",
   "execution_count": null,
   "metadata": {},
   "outputs": [],
   "source": [
    "def make_graph(stock_data, revenue_data, stock):\n",
    "    fig = make_subplots(rows=2, cols=1, shared_xaxes=True, subplot_titles=(\"Historical Share Price\", \"Historical Revenue\"), vertical_spacing = .3)\n",
    "    stock_data_specific = stock_data[stock_data.Date <= '2021--06-14']\n",
    "    revenue_data_specific = revenue_data[revenue_data.Date <= '2021-04-30']\n",
    "    fig.add_trace(go.Scatter(x=pd.to_datetime(stock_data_specific.Date, infer_datetime_format=True), y=stock_data_specific.Close.astype(\"float\"), name=\"Share Price\"), row=1, col=1)\n",
    "    fig.add_trace(go.Scatter(x=pd.to_datetime(revenue_data_specific.Date, infer_datetime_format=True), y=revenue_data_specific.Revenue.astype(\"float\"), name=\"Revenue\"), row=2, col=1)\n",
    "    fig.update_xaxes(title_text=\"Date\", row=1, col=1)\n",
    "    fig.update_xaxes(title_text=\"Date\", row=2, col=1)\n",
    "    fig.update_yaxes(title_text=\"Price ($US)\", row=1, col=1)\n",
    "    fig.update_yaxes(title_text=\"Revenue ($US Millions)\", row=2, col=1)\n",
    "    fig.update_layout(showlegend=False,\n",
    "    height=900,\n",
    "    title=stock,\n",
    "    xaxis_rangeslider_visible=True)\n",
    "    fig.show()"
   ]
  },
  {
   "cell_type": "markdown",
   "metadata": {},
   "source": [
    "## Question 1: Use yfinance to Extract Stock Data\n"
   ]
  },
  {
   "cell_type": "markdown",
   "metadata": {},
   "source": [
    "Using the `Ticker` function enter the ticker symbol of the stock we want to extract data on to create a ticker object. The stock is Tesla and its ticker symbol is `TSLA`.\n"
   ]
  },
  {
   "cell_type": "code",
   "execution_count": null,
   "metadata": {},
   "outputs": [],
   "source": []
  },
  {
   "cell_type": "markdown",
   "metadata": {},
   "source": [
    "Using the ticker object and the function `history` extract stock information and save it in a dataframe named `tesla_data`. Set the `period` parameter to `max` so we get information for the maximum amount of time.\n"
   ]
  },
  {
   "cell_type": "code",
   "execution_count": null,
   "metadata": {},
   "outputs": [],
   "source": []
  },
  {
   "cell_type": "markdown",
   "metadata": {},
   "source": [
    "**Reset the index** using the `reset_index(inplace=True)` function on the tesla_data DataFrame and display the first five rows of the `tesla_data` dataframe using the `head` function. Take a screenshot of the results and code from the beginning of Question 1 to the results below.\n"
   ]
  },
  {
   "cell_type": "code",
   "execution_count": null,
   "metadata": {},
   "outputs": [],
   "source": []
  },
  {
   "cell_type": "markdown",
   "metadata": {},
   "source": [
    "## Question 2: Use Webscraping to Extract Tesla Revenue Data\n"
   ]
  },
  {
   "cell_type": "markdown",
   "metadata": {},
   "source": [
    "Use the `requests` library to download the webpage https://cf-courses-data.s3.us.cloud-object-storage.appdomain.cloud/IBMDeveloperSkillsNetwork-PY0220EN-SkillsNetwork/labs/project/revenue.htm Save the text of the response as a variable named `html_data`.\n"
   ]
  },
  {
   "cell_type": "code",
   "execution_count": null,
   "metadata": {},
   "outputs": [],
   "source": []
  },
  {
   "cell_type": "markdown",
   "metadata": {},
   "source": [
    "Parse the html data using `beautiful_soup`.\n"
   ]
  },
  {
   "cell_type": "code",
   "execution_count": null,
   "metadata": {},
   "outputs": [],
   "source": []
  },
  {
   "cell_type": "markdown",
   "metadata": {},
   "source": [
    "Using `BeautifulSoup` or the `read_html` function extract the table with `Tesla Revenue` and store it into a dataframe named `tesla_revenue`. The dataframe should have columns `Date` and `Revenue`.\n"
   ]
  },
  {
   "cell_type": "markdown",
   "metadata": {},
   "source": [
    "<details><summary>Click here if you need help locating the table</summary>\n",
    "\n",
    "```\n",
    "    \n",
    "Below is the code to isolate the table, you will now need to loop through the rows and columns like in the previous lab\n",
    "    \n",
    "soup.find_all(\"tbody\")[1]\n",
    "    \n",
    "If you want to use the read_html function the table is located at index 1\n",
    "\n",
    "We are focusing on quarterly revenue in the lab.\n",
    "```\n",
    "\n",
    "</details>\n"
   ]
  },
  {
   "cell_type": "code",
   "execution_count": null,
   "metadata": {},
   "outputs": [],
   "source": []
  },
  {
   "cell_type": "markdown",
   "metadata": {},
   "source": [
    "Execute the following line to remove the comma and dollar sign from the `Revenue` column. \n"
   ]
  },
  {
   "cell_type": "code",
   "execution_count": null,
   "metadata": {},
   "outputs": [],
   "source": [
    "tesla_revenue[\"Revenue\"] = tesla_revenue['Revenue'].str.replace(',|\\$',\"\")"
   ]
  },
  {
   "cell_type": "markdown",
   "metadata": {},
   "source": [
    "Execute the following lines to remove an null or empty strings in the Revenue column.\n"
   ]
  },
  {
   "cell_type": "code",
   "execution_count": null,
   "metadata": {},
   "outputs": [],
   "source": [
    "tesla_revenue.dropna(inplace=True)\n",
    "\n",
    "tesla_revenue = tesla_revenue[tesla_revenue['Revenue'] != \"\"]"
   ]
  },
  {
   "cell_type": "markdown",
   "metadata": {},
   "source": [
    "Display the last 5 row of the `tesla_revenue` dataframe using the `tail` function. Take a screenshot of the results.\n"
   ]
  },
  {
   "cell_type": "code",
   "execution_count": null,
   "metadata": {},
   "outputs": [],
   "source": []
  },
  {
   "cell_type": "markdown",
   "metadata": {},
   "source": [
    "## Question 3: Use yfinance to Extract Stock Data\n"
   ]
  },
  {
   "cell_type": "markdown",
   "metadata": {},
   "source": [
    "Using the `Ticker` function enter the ticker symbol of the stock we want to extract data on to create a ticker object. The stock is GameStop and its ticker symbol is `GME`.\n"
   ]
  },
  {
   "cell_type": "code",
   "execution_count": null,
   "metadata": {},
   "outputs": [],
   "source": []
  },
  {
   "cell_type": "markdown",
   "metadata": {},
   "source": [
    "Using the ticker object and the function `history` extract stock information and save it in a dataframe named `gme_data`. Set the `period` parameter to `max` so we get information for the maximum amount of time.\n"
   ]
  },
  {
   "cell_type": "code",
   "execution_count": null,
   "metadata": {},
   "outputs": [],
   "source": []
  },
  {
   "cell_type": "markdown",
   "metadata": {},
   "source": [
    "**Reset the index** using the `reset_index(inplace=True)` function on the gme_data DataFrame and display the first five rows of the `gme_data` dataframe using the `head` function. Take a screenshot of the results and code from the beginning of Question 3 to the results below.\n"
   ]
  },
  {
   "cell_type": "code",
   "execution_count": null,
   "metadata": {},
   "outputs": [],
   "source": []
  },
  {
   "cell_type": "markdown",
   "metadata": {},
   "source": [
    "## Question 4: Use Webscraping to Extract GME Revenue Data\n"
   ]
  },
  {
   "cell_type": "markdown",
   "metadata": {},
   "source": [
    "Use the `requests` library to download the webpage https://cf-courses-data.s3.us.cloud-object-storage.appdomain.cloud/IBMDeveloperSkillsNetwork-PY0220EN-SkillsNetwork/labs/project/stock.html. Save the text of the response as a variable named `html_data`.\n"
   ]
  },
  {
   "cell_type": "code",
   "execution_count": null,
   "metadata": {},
   "outputs": [],
   "source": []
  },
  {
   "cell_type": "markdown",
   "metadata": {},
   "source": [
    "Parse the html data using `beautiful_soup`.\n"
   ]
  },
  {
   "cell_type": "code",
   "execution_count": null,
   "metadata": {},
   "outputs": [],
   "source": []
  },
  {
   "cell_type": "markdown",
   "metadata": {},
   "source": [
    "Using `BeautifulSoup` or the `read_html` function extract the table with `GameStop Revenue` and store it into a dataframe named `gme_revenue`. The dataframe should have columns `Date` and `Revenue`. Make sure the comma and dollar sign is removed from the `Revenue` column using a method similar to what you did in Question 2.\n"
   ]
  },
  {
   "cell_type": "markdown",
   "metadata": {},
   "source": [
    "<details><summary>Click here if you need help locating the table</summary>\n",
    "\n",
    "```\n",
    "    \n",
    "Below is the code to isolate the table, you will now need to loop through the rows and columns like in the previous lab\n",
    "    \n",
    "soup.find_all(\"tbody\")[1]\n",
    "    \n",
    "If you want to use the read_html function the table is located at index 1\n",
    "\n",
    "\n",
    "```\n",
    "\n",
    "</details>\n"
   ]
  },
  {
   "cell_type": "code",
   "execution_count": null,
   "metadata": {},
   "outputs": [],
   "source": []
  },
  {
   "cell_type": "markdown",
   "metadata": {},
   "source": [
    "Display the last five rows of the `gme_revenue` dataframe using the `tail` function. Take a screenshot of the results.\n"
   ]
  },
  {
   "cell_type": "code",
   "execution_count": null,
   "metadata": {},
   "outputs": [],
   "source": []
  },
  {
   "cell_type": "markdown",
   "metadata": {},
   "source": [
    "## Question 5: Plot Tesla Stock Graph\n"
   ]
  },
  {
   "cell_type": "markdown",
   "metadata": {},
   "source": [
    "Use the `make_graph` function to graph the Tesla Stock Data, also provide a title for the graph. The structure to call the `make_graph` function is `make_graph(tesla_data, tesla_revenue, 'Tesla')`. Note the graph will only show data upto June 2021.\n"
   ]
  },
  {
   "cell_type": "code",
   "execution_count": null,
   "metadata": {},
   "outputs": [],
   "source": []
  },
  {
   "cell_type": "markdown",
   "metadata": {},
   "source": [
    "## Question 6: Plot GameStop Stock Graph\n"
   ]
  },
  {
   "cell_type": "markdown",
   "metadata": {},
   "source": [
    "Use the `make_graph` function to graph the GameStop Stock Data, also provide a title for the graph. The structure to call the `make_graph` function is `make_graph(gme_data, gme_revenue, 'GameStop')`. Note the graph will only show data upto June 2021.\n"
   ]
  },
  {
   "cell_type": "code",
   "execution_count": null,
   "metadata": {},
   "outputs": [],
   "source": []
  },
  {
   "cell_type": "markdown",
   "metadata": {},
   "source": [
    "<h2>About the Authors:</h2> \n",
    "\n",
    "<a href=\"https://www.linkedin.com/in/joseph-s-50398b136/\">Joseph Santarcangelo</a> has a PhD in Electrical Engineering, his research focused on using machine learning, signal processing, and computer vision to determine how videos impact human cognition. Joseph has been working for IBM since he completed his PhD.\n",
    "\n",
    "Azim Hirjani\n"
   ]
  },
  {
   "cell_type": "markdown",
   "metadata": {},
   "source": [
    "## Change Log\n",
    "\n",
    "| Date (YYYY-MM-DD) | Version | Changed By    | Change Description        |\n",
    "| ----------------- | ------- | ------------- | ------------------------- |\n",
    "| 2022-02-28        | 1.2     | Lakshmi Holla | Changed the URL of GameStop |\n",
    "| 2020-11-10        | 1.1     | Malika Singla | Deleted the Optional part |\n",
    "| 2020-08-27        | 1.0     | Malika Singla | Added lab to GitLab       |\n",
    "\n",
    "<hr>\n",
    "\n",
    "## <h3 align=\"center\"> © IBM Corporation 2020. All rights reserved. <h3/>\n",
    "\n",
    "<p>\n"
   ]
  }
 ],
 "metadata": {
  "kernelspec": {
   "display_name": "Python 3 (ipykernel)",
   "language": "python",
   "name": "python3"
  },
  "language_info": {
   "codemirror_mode": {
    "name": "ipython",
    "version": 3
   },
   "file_extension": ".py",
   "mimetype": "text/x-python",
   "name": "python",
   "nbconvert_exporter": "python",
   "pygments_lexer": "ipython3",
   "version": "3.11.4"
  },
  "prev_pub_hash": "d60eaefd251a42ab1a22dc6c749e72b12de1a0381ae08b532fc47118a00a5394"
 },
 "nbformat": 4,
 "nbformat_minor": 4
}
